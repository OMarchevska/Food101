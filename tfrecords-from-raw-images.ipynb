{
 "cells": [
  {
   "cell_type": "code",
   "execution_count": 1,
   "id": "c2847ee8",
   "metadata": {
    "_cell_guid": "b1076dfc-b9ad-4769-8c92-a6c4dae69d19",
    "_uuid": "8f2839f25d086af736a60e9eeb907d3b93b6e0e5",
    "execution": {
     "iopub.execute_input": "2022-01-10T16:55:49.078332Z",
     "iopub.status.busy": "2022-01-10T16:55:49.076822Z",
     "iopub.status.idle": "2022-01-10T16:55:54.117480Z",
     "shell.execute_reply": "2022-01-10T16:55:54.116506Z",
     "shell.execute_reply.started": "2022-01-10T14:20:47.356821Z"
    },
    "papermill": {
     "duration": 5.066219,
     "end_time": "2022-01-10T16:55:54.117648",
     "exception": false,
     "start_time": "2022-01-10T16:55:49.051429",
     "status": "completed"
    },
    "tags": []
   },
   "outputs": [
    {
     "name": "stderr",
     "output_type": "stream",
     "text": [
      "2022-01-10 16:55:49.671129: I tensorflow/stream_executor/platform/default/dso_loader.cc:49] Successfully opened dynamic library libcudart.so.11.0\n"
     ]
    }
   ],
   "source": [
    "import numpy as np # linear algebra\n",
    "import pandas as pd # data processing, CSV file I/O (e.g. pd.read_csv)\n",
    "import random\n",
    "import tensorflow as tf\n",
    "import os, warnings \n",
    "import glob\n",
    "from sklearn.model_selection import StratifiedKFold\n",
    "\n",
    "PATH = '../input/food101/food-101/images'\n",
    "SEED = 42\n",
    "HEIGHT, WIDTH = (512, 512)\n",
    "warnings.filterwarnings('ignore')"
   ]
  },
  {
   "cell_type": "code",
   "execution_count": 2,
   "id": "79c1131e",
   "metadata": {
    "execution": {
     "iopub.execute_input": "2022-01-10T16:55:54.165150Z",
     "iopub.status.busy": "2022-01-10T16:55:54.164257Z",
     "iopub.status.idle": "2022-01-10T16:55:54.166099Z",
     "shell.execute_reply": "2022-01-10T16:55:54.166534Z",
     "shell.execute_reply.started": "2022-01-10T14:20:53.819970Z"
    },
    "papermill": {
     "duration": 0.028316,
     "end_time": "2022-01-10T16:55:54.166669",
     "exception": false,
     "start_time": "2022-01-10T16:55:54.138353",
     "status": "completed"
    },
    "tags": []
   },
   "outputs": [],
   "source": [
    "def set_global_seed(seed):\n",
    "    random.seed(seed)\n",
    "    np.random.seed(seed)\n",
    "    tf.random.set_seed(seed)\n",
    "    os.environ['PYTHONASHSEED'] = str(seed)\n",
    "    os.environ['TF_DETERMENISTIC_OPS'] = '1'\n",
    "\n",
    "set_global_seed(SEED)"
   ]
  },
  {
   "cell_type": "code",
   "execution_count": 3,
   "id": "d567bfbc",
   "metadata": {
    "execution": {
     "iopub.execute_input": "2022-01-10T16:55:54.211469Z",
     "iopub.status.busy": "2022-01-10T16:55:54.210924Z",
     "iopub.status.idle": "2022-01-10T16:55:54.286459Z",
     "shell.execute_reply": "2022-01-10T16:55:54.285933Z",
     "shell.execute_reply.started": "2022-01-10T14:20:53.827379Z"
    },
    "papermill": {
     "duration": 0.100289,
     "end_time": "2022-01-10T16:55:54.286591",
     "exception": false,
     "start_time": "2022-01-10T16:55:54.186302",
     "status": "completed"
    },
    "tags": []
   },
   "outputs": [],
   "source": [
    "train = pd.DataFrame(pd.read_csv('../input/food101/food-101/meta/train.txt', sep='/', header=None, names=['class_name', 'img_name']))\n",
    "test = pd.DataFrame(pd.read_csv('../input/food101/food-101/meta/test.txt', sep='/', header=None, names=['class_name', 'img_name']))"
   ]
  },
  {
   "cell_type": "code",
   "execution_count": 4,
   "id": "dca786c7",
   "metadata": {
    "execution": {
     "iopub.execute_input": "2022-01-10T16:55:54.338065Z",
     "iopub.status.busy": "2022-01-10T16:55:54.337199Z",
     "iopub.status.idle": "2022-01-10T16:55:54.409639Z",
     "shell.execute_reply": "2022-01-10T16:55:54.410044Z",
     "shell.execute_reply.started": "2022-01-10T14:20:53.934062Z"
    },
    "papermill": {
     "duration": 0.103511,
     "end_time": "2022-01-10T16:55:54.410201",
     "exception": false,
     "start_time": "2022-01-10T16:55:54.306690",
     "status": "completed"
    },
    "tags": []
   },
   "outputs": [
    {
     "data": {
      "text/html": [
       "<div>\n",
       "<style scoped>\n",
       "    .dataframe tbody tr th:only-of-type {\n",
       "        vertical-align: middle;\n",
       "    }\n",
       "\n",
       "    .dataframe tbody tr th {\n",
       "        vertical-align: top;\n",
       "    }\n",
       "\n",
       "    .dataframe thead th {\n",
       "        text-align: right;\n",
       "    }\n",
       "</style>\n",
       "<table border=\"1\" class=\"dataframe\">\n",
       "  <thead>\n",
       "    <tr style=\"text-align: right;\">\n",
       "      <th></th>\n",
       "      <th>class_name</th>\n",
       "      <th>img_name</th>\n",
       "    </tr>\n",
       "  </thead>\n",
       "  <tbody>\n",
       "    <tr>\n",
       "      <th>18388</th>\n",
       "      <td>clam_chowder</td>\n",
       "      <td>2871728.jpg</td>\n",
       "    </tr>\n",
       "    <tr>\n",
       "      <th>47035</th>\n",
       "      <td>macaroni_and_cheese</td>\n",
       "      <td>3545493.jpg</td>\n",
       "    </tr>\n",
       "    <tr>\n",
       "      <th>72532</th>\n",
       "      <td>tacos</td>\n",
       "      <td>3633647.jpg</td>\n",
       "    </tr>\n",
       "    <tr>\n",
       "      <th>47016</th>\n",
       "      <td>macaroni_and_cheese</td>\n",
       "      <td>3453546.jpg</td>\n",
       "    </tr>\n",
       "    <tr>\n",
       "      <th>46354</th>\n",
       "      <td>lobster_roll_sandwich</td>\n",
       "      <td>69108.jpg</td>\n",
       "    </tr>\n",
       "  </tbody>\n",
       "</table>\n",
       "</div>"
      ],
      "text/plain": [
       "                  class_name     img_name\n",
       "18388           clam_chowder  2871728.jpg\n",
       "47035    macaroni_and_cheese  3545493.jpg\n",
       "72532                  tacos  3633647.jpg\n",
       "47016    macaroni_and_cheese  3453546.jpg\n",
       "46354  lobster_roll_sandwich    69108.jpg"
      ]
     },
     "execution_count": 4,
     "metadata": {},
     "output_type": "execute_result"
    }
   ],
   "source": [
    "train['img_name'] = train['img_name'].apply(lambda x: str(x) + '.jpg')\n",
    "test['img_name'] = test['img_name'].apply(lambda x: str(x) + '.jpg')\n",
    "\n",
    "train.sample(5)"
   ]
  },
  {
   "cell_type": "code",
   "execution_count": 5,
   "id": "665dbf18",
   "metadata": {
    "execution": {
     "iopub.execute_input": "2022-01-10T16:55:54.462430Z",
     "iopub.status.busy": "2022-01-10T16:55:54.461549Z",
     "iopub.status.idle": "2022-01-10T16:55:54.479992Z",
     "shell.execute_reply": "2022-01-10T16:55:54.479538Z",
     "shell.execute_reply.started": "2022-01-10T14:20:54.032326Z"
    },
    "papermill": {
     "duration": 0.04876,
     "end_time": "2022-01-10T16:55:54.480114",
     "exception": false,
     "start_time": "2022-01-10T16:55:54.431354",
     "status": "completed"
    },
    "tags": []
   },
   "outputs": [
    {
     "data": {
      "text/html": [
       "<div>\n",
       "<style scoped>\n",
       "    .dataframe tbody tr th:only-of-type {\n",
       "        vertical-align: middle;\n",
       "    }\n",
       "\n",
       "    .dataframe tbody tr th {\n",
       "        vertical-align: top;\n",
       "    }\n",
       "\n",
       "    .dataframe thead th {\n",
       "        text-align: right;\n",
       "    }\n",
       "</style>\n",
       "<table border=\"1\" class=\"dataframe\">\n",
       "  <thead>\n",
       "    <tr style=\"text-align: right;\">\n",
       "      <th></th>\n",
       "      <th>class_name</th>\n",
       "      <th>img_name</th>\n",
       "      <th>label</th>\n",
       "    </tr>\n",
       "  </thead>\n",
       "  <tbody>\n",
       "    <tr>\n",
       "      <th>23998</th>\n",
       "      <td>sushi</td>\n",
       "      <td>988559.jpg</td>\n",
       "      <td>95</td>\n",
       "    </tr>\n",
       "    <tr>\n",
       "      <th>18927</th>\n",
       "      <td>pho</td>\n",
       "      <td>3598157.jpg</td>\n",
       "      <td>75</td>\n",
       "    </tr>\n",
       "    <tr>\n",
       "      <th>3324</th>\n",
       "      <td>caprese_salad</td>\n",
       "      <td>1971011.jpg</td>\n",
       "      <td>13</td>\n",
       "    </tr>\n",
       "    <tr>\n",
       "      <th>21129</th>\n",
       "      <td>risotto</td>\n",
       "      <td>2670349.jpg</td>\n",
       "      <td>84</td>\n",
       "    </tr>\n",
       "    <tr>\n",
       "      <th>10024</th>\n",
       "      <td>french_fries</td>\n",
       "      <td>153823.jpg</td>\n",
       "      <td>40</td>\n",
       "    </tr>\n",
       "  </tbody>\n",
       "</table>\n",
       "</div>"
      ],
      "text/plain": [
       "          class_name     img_name  label\n",
       "23998          sushi   988559.jpg     95\n",
       "18927            pho  3598157.jpg     75\n",
       "3324   caprese_salad  1971011.jpg     13\n",
       "21129        risotto  2670349.jpg     84\n",
       "10024   french_fries   153823.jpg     40"
      ]
     },
     "execution_count": 5,
     "metadata": {},
     "output_type": "execute_result"
    }
   ],
   "source": [
    "train['class_name'] = train['class_name'].astype('category')\n",
    "train['label'] = train['class_name'].cat.codes\n",
    "\n",
    "test['class_name'] = test['class_name'].astype('category')\n",
    "test['label'] = test['class_name'].cat.codes\n",
    "\n",
    "test.sample(5)"
   ]
  },
  {
   "cell_type": "code",
   "execution_count": 6,
   "id": "ff0ba468",
   "metadata": {
    "execution": {
     "iopub.execute_input": "2022-01-10T16:55:54.530591Z",
     "iopub.status.busy": "2022-01-10T16:55:54.529815Z",
     "iopub.status.idle": "2022-01-10T16:55:54.584203Z",
     "shell.execute_reply": "2022-01-10T16:55:54.584627Z",
     "shell.execute_reply.started": "2022-01-10T14:20:54.067288Z"
    },
    "papermill": {
     "duration": 0.084323,
     "end_time": "2022-01-10T16:55:54.584774",
     "exception": false,
     "start_time": "2022-01-10T16:55:54.500451",
     "status": "completed"
    },
    "tags": []
   },
   "outputs": [
    {
     "data": {
      "text/html": [
       "<div>\n",
       "<style scoped>\n",
       "    .dataframe tbody tr th:only-of-type {\n",
       "        vertical-align: middle;\n",
       "    }\n",
       "\n",
       "    .dataframe tbody tr th {\n",
       "        vertical-align: top;\n",
       "    }\n",
       "\n",
       "    .dataframe thead th {\n",
       "        text-align: right;\n",
       "    }\n",
       "</style>\n",
       "<table border=\"1\" class=\"dataframe\">\n",
       "  <thead>\n",
       "    <tr style=\"text-align: right;\">\n",
       "      <th></th>\n",
       "      <th>class_name</th>\n",
       "      <th>img_name</th>\n",
       "      <th>label</th>\n",
       "      <th>file</th>\n",
       "    </tr>\n",
       "  </thead>\n",
       "  <tbody>\n",
       "    <tr>\n",
       "      <th>57304</th>\n",
       "      <td>pizza</td>\n",
       "      <td>2487039.jpg</td>\n",
       "      <td>76</td>\n",
       "      <td>28</td>\n",
       "    </tr>\n",
       "    <tr>\n",
       "      <th>10114</th>\n",
       "      <td>caprese_salad</td>\n",
       "      <td>2756777.jpg</td>\n",
       "      <td>13</td>\n",
       "      <td>24</td>\n",
       "    </tr>\n",
       "    <tr>\n",
       "      <th>13212</th>\n",
       "      <td>cheese_plate</td>\n",
       "      <td>3182251.jpg</td>\n",
       "      <td>16</td>\n",
       "      <td>10</td>\n",
       "    </tr>\n",
       "    <tr>\n",
       "      <th>22611</th>\n",
       "      <td>deviled_eggs</td>\n",
       "      <td>1486281.jpg</td>\n",
       "      <td>30</td>\n",
       "      <td>17</td>\n",
       "    </tr>\n",
       "    <tr>\n",
       "      <th>4110</th>\n",
       "      <td>beet_salad</td>\n",
       "      <td>2769513.jpg</td>\n",
       "      <td>5</td>\n",
       "      <td>29</td>\n",
       "    </tr>\n",
       "  </tbody>\n",
       "</table>\n",
       "</div>"
      ],
      "text/plain": [
       "          class_name     img_name  label  file\n",
       "57304          pizza  2487039.jpg     76    28\n",
       "10114  caprese_salad  2756777.jpg     13    24\n",
       "13212   cheese_plate  3182251.jpg     16    10\n",
       "22611   deviled_eggs  1486281.jpg     30    17\n",
       "4110      beet_salad  2769513.jpg      5    29"
      ]
     },
     "execution_count": 6,
     "metadata": {},
     "output_type": "execute_result"
    }
   ],
   "source": [
    "TRAIN_VAL_FILES = 30\n",
    "TRAIN_FILES = 24\n",
    "VALID_FILES = 6\n",
    "TEST_FILES = 5\n",
    "\n",
    "def get_folds(dataset, FILES):\n",
    "    folds = StratifiedKFold(n_splits=FILES, shuffle=True, random_state=SEED)\n",
    "    dataset['file'] = -1\n",
    "\n",
    "    for fold_n, (ds_idx, val_ds_idx) in enumerate(folds.split(dataset, dataset['label'])):\n",
    "        # print('File %s has %s samples' % (fold_n + 1, len(val_ds_idx)))\n",
    "        dataset['file'].loc[val_ds_idx] = fold_n\n",
    "    return dataset\n",
    "\n",
    "train = get_folds(train, TRAIN_VAL_FILES)\n",
    "test = get_folds(test, TEST_FILES)\n",
    "\n",
    "train.sample(5)"
   ]
  },
  {
   "cell_type": "code",
   "execution_count": 7,
   "id": "2fdde986",
   "metadata": {
    "execution": {
     "iopub.execute_input": "2022-01-10T16:55:54.632177Z",
     "iopub.status.busy": "2022-01-10T16:55:54.631393Z",
     "iopub.status.idle": "2022-01-10T16:55:54.667000Z",
     "shell.execute_reply": "2022-01-10T16:55:54.666568Z",
     "shell.execute_reply.started": "2022-01-10T14:20:54.152038Z"
    },
    "papermill": {
     "duration": 0.061465,
     "end_time": "2022-01-10T16:55:54.667129",
     "exception": false,
     "start_time": "2022-01-10T16:55:54.605664",
     "status": "completed"
    },
    "tags": []
   },
   "outputs": [
    {
     "data": {
      "text/html": [
       "<div>\n",
       "<style scoped>\n",
       "    .dataframe tbody tr th:only-of-type {\n",
       "        vertical-align: middle;\n",
       "    }\n",
       "\n",
       "    .dataframe tbody tr th {\n",
       "        vertical-align: top;\n",
       "    }\n",
       "\n",
       "    .dataframe thead th {\n",
       "        text-align: right;\n",
       "    }\n",
       "</style>\n",
       "<table border=\"1\" class=\"dataframe\">\n",
       "  <thead>\n",
       "    <tr style=\"text-align: right;\">\n",
       "      <th></th>\n",
       "      <th>class_name</th>\n",
       "      <th>img_name</th>\n",
       "      <th>label</th>\n",
       "      <th>file</th>\n",
       "    </tr>\n",
       "  </thead>\n",
       "  <tbody>\n",
       "    <tr>\n",
       "      <th>70522</th>\n",
       "      <td>strawberry_shortcake</td>\n",
       "      <td>1166911.jpg</td>\n",
       "      <td>94</td>\n",
       "      <td>1</td>\n",
       "    </tr>\n",
       "    <tr>\n",
       "      <th>37344</th>\n",
       "      <td>grilled_cheese_sandwich</td>\n",
       "      <td>53344.jpg</td>\n",
       "      <td>49</td>\n",
       "      <td>0</td>\n",
       "    </tr>\n",
       "    <tr>\n",
       "      <th>30847</th>\n",
       "      <td>french_onion_soup</td>\n",
       "      <td>1337073.jpg</td>\n",
       "      <td>41</td>\n",
       "      <td>1</td>\n",
       "    </tr>\n",
       "    <tr>\n",
       "      <th>75204</th>\n",
       "      <td>waffles</td>\n",
       "      <td>1915099.jpg</td>\n",
       "      <td>100</td>\n",
       "      <td>4</td>\n",
       "    </tr>\n",
       "    <tr>\n",
       "      <th>22810</th>\n",
       "      <td>deviled_eggs</td>\n",
       "      <td>243148.jpg</td>\n",
       "      <td>30</td>\n",
       "      <td>4</td>\n",
       "    </tr>\n",
       "    <tr>\n",
       "      <th>12773</th>\n",
       "      <td>cheese_plate</td>\n",
       "      <td>1101209.jpg</td>\n",
       "      <td>16</td>\n",
       "      <td>0</td>\n",
       "    </tr>\n",
       "    <tr>\n",
       "      <th>57715</th>\n",
       "      <td>pizza</td>\n",
       "      <td>893644.jpg</td>\n",
       "      <td>76</td>\n",
       "      <td>4</td>\n",
       "    </tr>\n",
       "    <tr>\n",
       "      <th>32619</th>\n",
       "      <td>fried_calamari</td>\n",
       "      <td>2442213.jpg</td>\n",
       "      <td>43</td>\n",
       "      <td>4</td>\n",
       "    </tr>\n",
       "    <tr>\n",
       "      <th>72973</th>\n",
       "      <td>takoyaki</td>\n",
       "      <td>2066592.jpg</td>\n",
       "      <td>97</td>\n",
       "      <td>4</td>\n",
       "    </tr>\n",
       "    <tr>\n",
       "      <th>62722</th>\n",
       "      <td>red_velvet_cake</td>\n",
       "      <td>2985875.jpg</td>\n",
       "      <td>83</td>\n",
       "      <td>4</td>\n",
       "    </tr>\n",
       "  </tbody>\n",
       "</table>\n",
       "</div>"
      ],
      "text/plain": [
       "                    class_name     img_name  label  file\n",
       "70522     strawberry_shortcake  1166911.jpg     94     1\n",
       "37344  grilled_cheese_sandwich    53344.jpg     49     0\n",
       "30847        french_onion_soup  1337073.jpg     41     1\n",
       "75204                  waffles  1915099.jpg    100     4\n",
       "22810             deviled_eggs   243148.jpg     30     4\n",
       "12773             cheese_plate  1101209.jpg     16     0\n",
       "57715                    pizza   893644.jpg     76     4\n",
       "32619           fried_calamari  2442213.jpg     43     4\n",
       "72973                 takoyaki  2066592.jpg     97     4\n",
       "62722          red_velvet_cake  2985875.jpg     83     4"
      ]
     },
     "execution_count": 7,
     "metadata": {},
     "output_type": "execute_result"
    }
   ],
   "source": [
    "filt = (train['file'] > 23)\n",
    "valid = train.loc[filt]\n",
    "train = train.loc[~filt]\n",
    "valid['file'] = valid['file'].apply(lambda x: x - 24)\n",
    "valid.sample(10)"
   ]
  },
  {
   "cell_type": "code",
   "execution_count": 8,
   "id": "edd107ee",
   "metadata": {
    "execution": {
     "iopub.execute_input": "2022-01-10T16:55:54.718995Z",
     "iopub.status.busy": "2022-01-10T16:55:54.718247Z",
     "iopub.status.idle": "2022-01-10T16:55:54.720540Z",
     "shell.execute_reply": "2022-01-10T16:55:54.721010Z",
     "shell.execute_reply.started": "2022-01-10T14:22:45.565484Z"
    },
    "papermill": {
     "duration": 0.032913,
     "end_time": "2022-01-10T16:55:54.721174",
     "exception": false,
     "start_time": "2022-01-10T16:55:54.688261",
     "status": "completed"
    },
    "tags": []
   },
   "outputs": [],
   "source": [
    "def image_feature(value):\n",
    "    \"\"\"Returns a bytes_list from a string / byte.\"\"\"\n",
    "    return tf.train.Feature(\n",
    "        bytes_list=tf.train.BytesList(value=[tf.io.encode_jpeg(value).numpy()])\n",
    "    )\n",
    "\n",
    "def int64_feature(value):\n",
    "    \"\"\"Returns an int64_list from a bool / enum / int / uint.\"\"\"\n",
    "    return tf.train.Feature(int64_list=tf.train.Int64List(value=[value]))\n",
    "\n",
    "def create_example(image, label):\n",
    "    feature = {\n",
    "        \"image\": image_feature(image),\n",
    "        \"label\": int64_feature(label),\n",
    "    }\n",
    "    return tf.train.Example(features=tf.train.Features(feature=feature))\n",
    "\n",
    "\n",
    "def parse_tfrecord_fn(example):\n",
    "    feature_description = {\n",
    "        \"image\": tf.io.FixedLenFeature([], tf.string),\n",
    "        \"label\": tf.io.FixedLenFeature([], tf.int64),\n",
    "    }\n",
    "    example = tf.io.parse_single_example(example, feature_description)\n",
    "    example[\"image\"] = tf.io.decode_jpeg(example[\"image\"], channels=3)\n",
    "    return example"
   ]
  },
  {
   "cell_type": "code",
   "execution_count": 9,
   "id": "2613bbd9",
   "metadata": {
    "execution": {
     "iopub.execute_input": "2022-01-10T16:55:54.772406Z",
     "iopub.status.busy": "2022-01-10T16:55:54.770851Z",
     "iopub.status.idle": "2022-01-10T16:55:54.773050Z",
     "shell.execute_reply": "2022-01-10T16:55:54.773452Z",
     "shell.execute_reply.started": "2022-01-10T14:22:46.408609Z"
    },
    "papermill": {
     "duration": 0.031148,
     "end_time": "2022-01-10T16:55:54.773579",
     "exception": false,
     "start_time": "2022-01-10T16:55:54.742431",
     "status": "completed"
    },
    "tags": []
   },
   "outputs": [],
   "source": [
    "def create_tfrec(dataset, n_files, name=None):\n",
    "    for tfrec_num in range(n_files):\n",
    "        print('\\nWriting %i out of %i TFRecords...'%(tfrec_num+1, n_files))\n",
    "        samples = dataset[dataset['file'] == tfrec_num]\n",
    "        n_samples = len(samples)\n",
    "        print(n_samples)\n",
    "        with tf.io.TFRecordWriter(\n",
    "            str(name) + '_%.2i-%i.tfrec'%(tfrec_num, n_samples)\n",
    "        ) as writer:\n",
    "            for row in samples.itertuples():\n",
    "                label = row.label\n",
    "                img_path = os.path.join(PATH, row.class_name, row.img_name)\n",
    "                image = tf.io.decode_jpeg(tf.io.read_file(img_path))\n",
    "                example = create_example(image, label)\n",
    "                writer.write(example.SerializeToString())"
   ]
  },
  {
   "cell_type": "code",
   "execution_count": 10,
   "id": "5999c9de",
   "metadata": {
    "execution": {
     "iopub.execute_input": "2022-01-10T16:55:54.819995Z",
     "iopub.status.busy": "2022-01-10T16:55:54.819238Z",
     "iopub.status.idle": "2022-01-10T17:02:52.825760Z",
     "shell.execute_reply": "2022-01-10T17:02:52.824955Z",
     "shell.execute_reply.started": "2022-01-08T22:38:55.076027Z"
    },
    "papermill": {
     "duration": 418.031152,
     "end_time": "2022-01-10T17:02:52.825895",
     "exception": false,
     "start_time": "2022-01-10T16:55:54.794743",
     "status": "completed"
    },
    "tags": []
   },
   "outputs": [
    {
     "name": "stdout",
     "output_type": "stream",
     "text": [
      "\n",
      "Writing 1 out of 24 TFRecords...\n",
      "2525\n"
     ]
    },
    {
     "name": "stderr",
     "output_type": "stream",
     "text": [
      "2022-01-10 16:55:54.825346: I tensorflow/compiler/jit/xla_cpu_device.cc:41] Not creating XLA devices, tf_xla_enable_xla_devices not set\n",
      "2022-01-10 16:55:54.830513: I tensorflow/stream_executor/platform/default/dso_loader.cc:49] Successfully opened dynamic library libcuda.so.1\n",
      "2022-01-10 16:55:54.876661: I tensorflow/stream_executor/cuda/cuda_gpu_executor.cc:941] successful NUMA node read from SysFS had negative value (-1), but there must be at least one NUMA node, so returning NUMA node zero\n",
      "2022-01-10 16:55:54.877273: I tensorflow/core/common_runtime/gpu/gpu_device.cc:1720] Found device 0 with properties: \n",
      "pciBusID: 0000:00:04.0 name: Tesla P100-PCIE-16GB computeCapability: 6.0\n",
      "coreClock: 1.3285GHz coreCount: 56 deviceMemorySize: 15.90GiB deviceMemoryBandwidth: 681.88GiB/s\n",
      "2022-01-10 16:55:54.877318: I tensorflow/stream_executor/platform/default/dso_loader.cc:49] Successfully opened dynamic library libcudart.so.11.0\n",
      "2022-01-10 16:55:54.903761: I tensorflow/stream_executor/platform/default/dso_loader.cc:49] Successfully opened dynamic library libcublas.so.11\n",
      "2022-01-10 16:55:54.903854: I tensorflow/stream_executor/platform/default/dso_loader.cc:49] Successfully opened dynamic library libcublasLt.so.11\n",
      "2022-01-10 16:55:54.920266: I tensorflow/stream_executor/platform/default/dso_loader.cc:49] Successfully opened dynamic library libcufft.so.10\n",
      "2022-01-10 16:55:54.930378: I tensorflow/stream_executor/platform/default/dso_loader.cc:49] Successfully opened dynamic library libcurand.so.10\n",
      "2022-01-10 16:55:54.955966: I tensorflow/stream_executor/platform/default/dso_loader.cc:49] Successfully opened dynamic library libcusolver.so.10\n",
      "2022-01-10 16:55:54.963032: I tensorflow/stream_executor/platform/default/dso_loader.cc:49] Successfully opened dynamic library libcusparse.so.11\n",
      "2022-01-10 16:55:54.967543: I tensorflow/stream_executor/platform/default/dso_loader.cc:49] Successfully opened dynamic library libcudnn.so.8\n",
      "2022-01-10 16:55:54.967732: I tensorflow/stream_executor/cuda/cuda_gpu_executor.cc:941] successful NUMA node read from SysFS had negative value (-1), but there must be at least one NUMA node, so returning NUMA node zero\n",
      "2022-01-10 16:55:54.968472: I tensorflow/stream_executor/cuda/cuda_gpu_executor.cc:941] successful NUMA node read from SysFS had negative value (-1), but there must be at least one NUMA node, so returning NUMA node zero\n",
      "2022-01-10 16:55:54.970034: I tensorflow/core/common_runtime/gpu/gpu_device.cc:1862] Adding visible gpu devices: 0\n",
      "2022-01-10 16:55:54.971898: I tensorflow/core/platform/cpu_feature_guard.cc:142] This TensorFlow binary is optimized with oneAPI Deep Neural Network Library (oneDNN) to use the following CPU instructions in performance-critical operations:  AVX2 AVX512F FMA\n",
      "To enable them in other operations, rebuild TensorFlow with the appropriate compiler flags.\n",
      "2022-01-10 16:55:54.973271: I tensorflow/compiler/jit/xla_gpu_device.cc:99] Not creating XLA devices, tf_xla_enable_xla_devices not set\n",
      "2022-01-10 16:55:54.973452: I tensorflow/stream_executor/cuda/cuda_gpu_executor.cc:941] successful NUMA node read from SysFS had negative value (-1), but there must be at least one NUMA node, so returning NUMA node zero\n",
      "2022-01-10 16:55:54.974091: I tensorflow/core/common_runtime/gpu/gpu_device.cc:1720] Found device 0 with properties: \n",
      "pciBusID: 0000:00:04.0 name: Tesla P100-PCIE-16GB computeCapability: 6.0\n",
      "coreClock: 1.3285GHz coreCount: 56 deviceMemorySize: 15.90GiB deviceMemoryBandwidth: 681.88GiB/s\n",
      "2022-01-10 16:55:54.974137: I tensorflow/stream_executor/platform/default/dso_loader.cc:49] Successfully opened dynamic library libcudart.so.11.0\n",
      "2022-01-10 16:55:54.974165: I tensorflow/stream_executor/platform/default/dso_loader.cc:49] Successfully opened dynamic library libcublas.so.11\n",
      "2022-01-10 16:55:54.974182: I tensorflow/stream_executor/platform/default/dso_loader.cc:49] Successfully opened dynamic library libcublasLt.so.11\n",
      "2022-01-10 16:55:54.974199: I tensorflow/stream_executor/platform/default/dso_loader.cc:49] Successfully opened dynamic library libcufft.so.10\n",
      "2022-01-10 16:55:54.974215: I tensorflow/stream_executor/platform/default/dso_loader.cc:49] Successfully opened dynamic library libcurand.so.10\n",
      "2022-01-10 16:55:54.974231: I tensorflow/stream_executor/platform/default/dso_loader.cc:49] Successfully opened dynamic library libcusolver.so.10\n",
      "2022-01-10 16:55:54.974249: I tensorflow/stream_executor/platform/default/dso_loader.cc:49] Successfully opened dynamic library libcusparse.so.11\n",
      "2022-01-10 16:55:54.974266: I tensorflow/stream_executor/platform/default/dso_loader.cc:49] Successfully opened dynamic library libcudnn.so.8\n",
      "2022-01-10 16:55:54.974348: I tensorflow/stream_executor/cuda/cuda_gpu_executor.cc:941] successful NUMA node read from SysFS had negative value (-1), but there must be at least one NUMA node, so returning NUMA node zero\n",
      "2022-01-10 16:55:54.975009: I tensorflow/stream_executor/cuda/cuda_gpu_executor.cc:941] successful NUMA node read from SysFS had negative value (-1), but there must be at least one NUMA node, so returning NUMA node zero\n",
      "2022-01-10 16:55:54.975578: I tensorflow/core/common_runtime/gpu/gpu_device.cc:1862] Adding visible gpu devices: 0\n",
      "2022-01-10 16:55:54.976538: I tensorflow/stream_executor/platform/default/dso_loader.cc:49] Successfully opened dynamic library libcudart.so.11.0\n",
      "2022-01-10 16:55:56.458449: I tensorflow/core/common_runtime/gpu/gpu_device.cc:1261] Device interconnect StreamExecutor with strength 1 edge matrix:\n",
      "2022-01-10 16:55:56.458498: I tensorflow/core/common_runtime/gpu/gpu_device.cc:1267]      0 \n",
      "2022-01-10 16:55:56.458509: I tensorflow/core/common_runtime/gpu/gpu_device.cc:1280] 0:   N \n",
      "2022-01-10 16:55:56.460713: I tensorflow/stream_executor/cuda/cuda_gpu_executor.cc:941] successful NUMA node read from SysFS had negative value (-1), but there must be at least one NUMA node, so returning NUMA node zero\n",
      "2022-01-10 16:55:56.461612: I tensorflow/stream_executor/cuda/cuda_gpu_executor.cc:941] successful NUMA node read from SysFS had negative value (-1), but there must be at least one NUMA node, so returning NUMA node zero\n",
      "2022-01-10 16:55:56.462367: I tensorflow/stream_executor/cuda/cuda_gpu_executor.cc:941] successful NUMA node read from SysFS had negative value (-1), but there must be at least one NUMA node, so returning NUMA node zero\n",
      "2022-01-10 16:55:56.462921: I tensorflow/core/common_runtime/gpu/gpu_device.cc:1406] Created TensorFlow device (/job:localhost/replica:0/task:0/device:GPU:0 with 14957 MB memory) -> physical GPU (device: 0, name: Tesla P100-PCIE-16GB, pci bus id: 0000:00:04.0, compute capability: 6.0)\n"
     ]
    },
    {
     "name": "stdout",
     "output_type": "stream",
     "text": [
      "\n",
      "Writing 2 out of 24 TFRecords...\n",
      "2525\n",
      "\n",
      "Writing 3 out of 24 TFRecords...\n",
      "2525\n",
      "\n",
      "Writing 4 out of 24 TFRecords...\n",
      "2525\n",
      "\n",
      "Writing 5 out of 24 TFRecords...\n",
      "2525\n",
      "\n",
      "Writing 6 out of 24 TFRecords...\n",
      "2525\n",
      "\n",
      "Writing 7 out of 24 TFRecords...\n",
      "2525\n",
      "\n",
      "Writing 8 out of 24 TFRecords...\n",
      "2525\n",
      "\n",
      "Writing 9 out of 24 TFRecords...\n",
      "2525\n",
      "\n",
      "Writing 10 out of 24 TFRecords...\n",
      "2525\n",
      "\n",
      "Writing 11 out of 24 TFRecords...\n",
      "2525\n",
      "\n",
      "Writing 12 out of 24 TFRecords...\n",
      "2525\n",
      "\n",
      "Writing 13 out of 24 TFRecords...\n",
      "2525\n",
      "\n",
      "Writing 14 out of 24 TFRecords...\n",
      "2525\n",
      "\n",
      "Writing 15 out of 24 TFRecords...\n",
      "2525\n",
      "\n",
      "Writing 16 out of 24 TFRecords...\n",
      "2525\n",
      "\n",
      "Writing 17 out of 24 TFRecords...\n",
      "2525\n",
      "\n",
      "Writing 18 out of 24 TFRecords...\n",
      "2525\n",
      "\n",
      "Writing 19 out of 24 TFRecords...\n",
      "2525\n",
      "\n",
      "Writing 20 out of 24 TFRecords...\n",
      "2525\n",
      "\n",
      "Writing 21 out of 24 TFRecords...\n",
      "2525\n",
      "\n",
      "Writing 22 out of 24 TFRecords...\n",
      "2525\n",
      "\n",
      "Writing 23 out of 24 TFRecords...\n",
      "2525\n",
      "\n",
      "Writing 24 out of 24 TFRecords...\n",
      "2525\n"
     ]
    }
   ],
   "source": [
    "create_tfrec(train, TRAIN_FILES, 'train')"
   ]
  },
  {
   "cell_type": "code",
   "execution_count": 11,
   "id": "64b6b2a8",
   "metadata": {
    "execution": {
     "iopub.execute_input": "2022-01-10T17:02:52.888224Z",
     "iopub.status.busy": "2022-01-10T17:02:52.887160Z",
     "iopub.status.idle": "2022-01-10T17:04:37.636110Z",
     "shell.execute_reply": "2022-01-10T17:04:37.636619Z",
     "shell.execute_reply.started": "2022-01-10T14:22:48.682811Z"
    },
    "papermill": {
     "duration": 104.782827,
     "end_time": "2022-01-10T17:04:37.636784",
     "exception": false,
     "start_time": "2022-01-10T17:02:52.853957",
     "status": "completed"
    },
    "tags": []
   },
   "outputs": [
    {
     "name": "stdout",
     "output_type": "stream",
     "text": [
      "\n",
      "Writing 1 out of 6 TFRecords...\n",
      "2525\n",
      "\n",
      "Writing 2 out of 6 TFRecords...\n",
      "2525\n",
      "\n",
      "Writing 3 out of 6 TFRecords...\n",
      "2525\n",
      "\n",
      "Writing 4 out of 6 TFRecords...\n",
      "2525\n",
      "\n",
      "Writing 5 out of 6 TFRecords...\n",
      "2525\n",
      "\n",
      "Writing 6 out of 6 TFRecords...\n",
      "2525\n"
     ]
    }
   ],
   "source": [
    "create_tfrec(valid, VALID_FILES, 'valid')"
   ]
  },
  {
   "cell_type": "code",
   "execution_count": 12,
   "id": "468fb073",
   "metadata": {
    "execution": {
     "iopub.execute_input": "2022-01-10T17:04:37.700540Z",
     "iopub.status.busy": "2022-01-10T17:04:37.699754Z",
     "iopub.status.idle": "2022-01-10T17:07:32.138714Z",
     "shell.execute_reply": "2022-01-10T17:07:32.138228Z",
     "shell.execute_reply.started": "2022-01-08T22:39:20.881109Z"
    },
    "papermill": {
     "duration": 174.472523,
     "end_time": "2022-01-10T17:07:32.138850",
     "exception": false,
     "start_time": "2022-01-10T17:04:37.666327",
     "status": "completed"
    },
    "tags": []
   },
   "outputs": [
    {
     "name": "stdout",
     "output_type": "stream",
     "text": [
      "\n",
      "Writing 1 out of 5 TFRecords...\n",
      "5050\n",
      "\n",
      "Writing 2 out of 5 TFRecords...\n",
      "5050\n",
      "\n",
      "Writing 3 out of 5 TFRecords...\n",
      "5050\n",
      "\n",
      "Writing 4 out of 5 TFRecords...\n",
      "5050\n",
      "\n",
      "Writing 5 out of 5 TFRecords...\n",
      "5050\n"
     ]
    }
   ],
   "source": [
    "create_tfrec(test, TEST_FILES, 'test')"
   ]
  },
  {
   "cell_type": "code",
   "execution_count": 13,
   "id": "14cf2d98",
   "metadata": {
    "execution": {
     "iopub.execute_input": "2022-01-10T17:07:32.205724Z",
     "iopub.status.busy": "2022-01-10T17:07:32.204177Z",
     "iopub.status.idle": "2022-01-10T17:07:32.206314Z",
     "shell.execute_reply": "2022-01-10T17:07:32.206704Z",
     "shell.execute_reply.started": "2022-01-08T22:22:49.37799Z"
    },
    "papermill": {
     "duration": 0.03648,
     "end_time": "2022-01-10T17:07:32.206835",
     "exception": false,
     "start_time": "2022-01-10T17:07:32.170355",
     "status": "completed"
    },
    "tags": []
   },
   "outputs": [],
   "source": [
    "# with open('../input/food101/food-101/meta/classes.txt') as f:\n",
    "#     classes = f.readlines()\n",
    "# CLASS_NAMES = [class_name.strip('\\n') for class_name in classes]"
   ]
  },
  {
   "cell_type": "code",
   "execution_count": 14,
   "id": "ffcc58f5",
   "metadata": {
    "execution": {
     "iopub.execute_input": "2022-01-10T17:07:32.271593Z",
     "iopub.status.busy": "2022-01-10T17:07:32.270709Z",
     "iopub.status.idle": "2022-01-10T17:07:32.272545Z",
     "shell.execute_reply": "2022-01-10T17:07:32.272959Z",
     "shell.execute_reply.started": "2022-01-08T22:22:54.636285Z"
    },
    "papermill": {
     "duration": 0.036002,
     "end_time": "2022-01-10T17:07:32.273094",
     "exception": false,
     "start_time": "2022-01-10T17:07:32.237092",
     "status": "completed"
    },
    "tags": []
   },
   "outputs": [],
   "source": [
    "# def get_enc_classes(class_names=CLASS_NAMES):\n",
    "#     enc_classes_dict = {}\n",
    "#     for n, class_name in enumerate(class_names):\n",
    "#         enc_classes_dict[class_name] = n\n",
    "#     return enc_classes_dict"
   ]
  },
  {
   "cell_type": "code",
   "execution_count": 15,
   "id": "52d4ce53",
   "metadata": {
    "execution": {
     "iopub.execute_input": "2022-01-10T17:07:32.337491Z",
     "iopub.status.busy": "2022-01-10T17:07:32.336906Z",
     "iopub.status.idle": "2022-01-10T17:07:32.340257Z",
     "shell.execute_reply": "2022-01-10T17:07:32.340634Z",
     "shell.execute_reply.started": "2022-01-08T22:23:02.139465Z"
    },
    "papermill": {
     "duration": 0.037601,
     "end_time": "2022-01-10T17:07:32.340775",
     "exception": false,
     "start_time": "2022-01-10T17:07:32.303174",
     "status": "completed"
    },
    "tags": []
   },
   "outputs": [],
   "source": [
    "# def create_label_filepath_dict(path=PATH):\n",
    "#     label_filepath_dict = {}\n",
    "#     enc_classes = get_enc_classes()\n",
    "#     for dirname, dirs, filenames in os.walk(path):\n",
    "#         class_name = dirname.split('/')[-1]\n",
    "#         if class_name in enc_classes.keys():\n",
    "#             filenames = [os.path.join(PATH, class_name, filename) for filename in filenames]\n",
    "#             label = enc_classes[class_name]\n",
    "#             label_filepath_dict[label] = filenames\n",
    "#         else:\n",
    "#             continue\n",
    "#     return label_filepath_dict"
   ]
  },
  {
   "cell_type": "code",
   "execution_count": 16,
   "id": "b7b1f3f9",
   "metadata": {
    "execution": {
     "iopub.execute_input": "2022-01-10T17:07:32.405394Z",
     "iopub.status.busy": "2022-01-10T17:07:32.404785Z",
     "iopub.status.idle": "2022-01-10T17:07:32.408675Z",
     "shell.execute_reply": "2022-01-10T17:07:32.408257Z",
     "shell.execute_reply.started": "2022-01-08T22:23:06.008526Z"
    },
    "papermill": {
     "duration": 0.037499,
     "end_time": "2022-01-10T17:07:32.408791",
     "exception": false,
     "start_time": "2022-01-10T17:07:32.371292",
     "status": "completed"
    },
    "tags": []
   },
   "outputs": [],
   "source": [
    "# images = glob.glob('../input/food101/food-101/images/*/*.jpg')\n",
    "# len(images)"
   ]
  },
  {
   "cell_type": "code",
   "execution_count": 17,
   "id": "93bf33e8",
   "metadata": {
    "execution": {
     "iopub.execute_input": "2022-01-10T17:07:32.474406Z",
     "iopub.status.busy": "2022-01-10T17:07:32.472790Z",
     "iopub.status.idle": "2022-01-10T17:07:32.475100Z",
     "shell.execute_reply": "2022-01-10T17:07:32.475559Z",
     "shell.execute_reply.started": "2022-01-08T22:32:02.826519Z"
    },
    "papermill": {
     "duration": 0.036398,
     "end_time": "2022-01-10T17:07:32.475701",
     "exception": false,
     "start_time": "2022-01-10T17:07:32.439303",
     "status": "completed"
    },
    "tags": []
   },
   "outputs": [],
   "source": [
    "# filepaths.sort()\n",
    "# images.sort()\n",
    "# filepaths == images"
   ]
  },
  {
   "cell_type": "code",
   "execution_count": 18,
   "id": "0730f8c5",
   "metadata": {
    "execution": {
     "iopub.execute_input": "2022-01-10T17:07:32.540262Z",
     "iopub.status.busy": "2022-01-10T17:07:32.539360Z",
     "iopub.status.idle": "2022-01-10T17:07:32.541195Z",
     "shell.execute_reply": "2022-01-10T17:07:32.541623Z",
     "shell.execute_reply.started": "2021-10-21T16:05:09.086128Z"
    },
    "papermill": {
     "duration": 0.035833,
     "end_time": "2022-01-10T17:07:32.541756",
     "exception": false,
     "start_time": "2022-01-10T17:07:32.505923",
     "status": "completed"
    },
    "tags": []
   },
   "outputs": [],
   "source": [
    "# label_filepath = create_label_filepath_dict()"
   ]
  },
  {
   "cell_type": "code",
   "execution_count": 19,
   "id": "e2c75b9b",
   "metadata": {
    "execution": {
     "iopub.execute_input": "2022-01-10T17:07:32.607262Z",
     "iopub.status.busy": "2022-01-10T17:07:32.606644Z",
     "iopub.status.idle": "2022-01-10T17:07:32.610489Z",
     "shell.execute_reply": "2022-01-10T17:07:32.610016Z",
     "shell.execute_reply.started": "2021-10-21T16:05:10.458769Z"
    },
    "papermill": {
     "duration": 0.03865,
     "end_time": "2022-01-10T17:07:32.610606",
     "exception": false,
     "start_time": "2022-01-10T17:07:32.571956",
     "status": "completed"
    },
    "tags": []
   },
   "outputs": [],
   "source": [
    "# def split_data(train_size, valid_size, test_size):\n",
    "#     label_filepath = create_label_filepath_dict()\n",
    "#     train_filepaths_labels, valid_filepaths_labels, test_filepaths_labels = [], [], []\n",
    "#     for label in label_filepath.keys():\n",
    "#         img_filepaths = label_filepath[label]\n",
    "#         len_img_filepaths = len(img_filepaths)\n",
    "#         train_idx = int(len_img_filepaths * train_size)\n",
    "#         train_filepaths = img_filepaths[:train_idx]\n",
    "#         for filepath in train_filepaths:\n",
    "#             train_filepaths_labels.append((filepath, label))\n",
    "#         if valid_size:\n",
    "#             valid_idx = int(len_img_filepaths * valid_size) + train_idx\n",
    "#             valid_filepaths = img_filepaths[train_idx:valid_idx]\n",
    "#             for filepath in valid_filepaths:\n",
    "#                 valid_filepaths_labels.append((filepath, label))\n",
    "#             test_filepaths = img_filepaths[valid_idx:]\n",
    "#             for filepath in test_filepaths:\n",
    "#                 test_filepaths_labels.append((filepath, label))\n",
    "#         else:\n",
    "#             test_filepaths = img_filepaths[train_idx:]\n",
    "#             for filepath in test_filepaths:\n",
    "#                 test_filepaths_labels.append((filepath, label))\n",
    "#             valid_filepaths_labels = None\n",
    "#     random.shuffle(train_filepaths_labels)\n",
    "#     random.shuffle(valid_filepaths_labels)\n",
    "#     random.shuffle(test_filepaths_labels)\n",
    "#     return train_filepaths_labels, valid_filepaths_labels, test_filepaths_labels"
   ]
  },
  {
   "cell_type": "code",
   "execution_count": 20,
   "id": "cbf2c860",
   "metadata": {
    "execution": {
     "iopub.execute_input": "2022-01-10T17:07:32.674278Z",
     "iopub.status.busy": "2022-01-10T17:07:32.673630Z",
     "iopub.status.idle": "2022-01-10T17:07:32.677450Z",
     "shell.execute_reply": "2022-01-10T17:07:32.676882Z",
     "shell.execute_reply.started": "2021-10-21T16:10:05.121264Z"
    },
    "papermill": {
     "duration": 0.037104,
     "end_time": "2022-01-10T17:07:32.677575",
     "exception": false,
     "start_time": "2022-01-10T17:07:32.640471",
     "status": "completed"
    },
    "tags": []
   },
   "outputs": [],
   "source": [
    "# train_imgpath_label, valid_imgpath_label, test_imgpath_label = split_data(train_size=0.6, valid_size=0.15, test_size=0.25)"
   ]
  },
  {
   "cell_type": "code",
   "execution_count": 21,
   "id": "ebeeeef3",
   "metadata": {
    "execution": {
     "iopub.execute_input": "2022-01-10T17:07:32.745498Z",
     "iopub.status.busy": "2022-01-10T17:07:32.744754Z",
     "iopub.status.idle": "2022-01-10T17:07:32.747368Z",
     "shell.execute_reply": "2022-01-10T17:07:32.746913Z",
     "shell.execute_reply.started": "2021-10-21T16:10:08.090498Z"
    },
    "papermill": {
     "duration": 0.036323,
     "end_time": "2022-01-10T17:07:32.747484",
     "exception": false,
     "start_time": "2022-01-10T17:07:32.711161",
     "status": "completed"
    },
    "tags": []
   },
   "outputs": [],
   "source": [
    "# tfrecords_dir = \"food101_tfrecords\"\n",
    "# NUM_SAMPLES = 2048\n",
    "\n",
    "# if not os.path.exists(tfrecords_dir):\n",
    "#     os.makedirs(tfrecords_dir)"
   ]
  },
  {
   "cell_type": "code",
   "execution_count": 22,
   "id": "a644ae5b",
   "metadata": {
    "execution": {
     "iopub.execute_input": "2022-01-10T17:07:32.814027Z",
     "iopub.status.busy": "2022-01-10T17:07:32.813453Z",
     "iopub.status.idle": "2022-01-10T17:07:32.817396Z",
     "shell.execute_reply": "2022-01-10T17:07:32.816900Z",
     "shell.execute_reply.started": "2021-10-21T16:10:10.033411Z"
    },
    "papermill": {
     "duration": 0.039393,
     "end_time": "2022-01-10T17:07:32.817512",
     "exception": false,
     "start_time": "2022-01-10T17:07:32.778119",
     "status": "completed"
    },
    "tags": []
   },
   "outputs": [],
   "source": [
    "# def get_num_tfrecords(img_path_label, num_samples=NUM_SAMPLES):\n",
    "#     num_tfrecords = len(img_path_label) // num_samples\n",
    "#     if len(img_path_label) % num_samples:\n",
    "#         num_tfrecords += 1  # add one record if there are any remaining samples\n",
    "#     return num_tfrecords\n",
    "\n",
    "\n",
    "# def image_feature(value):\n",
    "#     \"\"\"Returns a bytes_list from a string / byte.\"\"\"\n",
    "#     return tf.train.Feature(\n",
    "#         bytes_list=tf.train.BytesList(value=[tf.io.encode_jpeg(value).numpy()])\n",
    "#     )\n",
    "\n",
    "# def int64_feature(value):\n",
    "#     \"\"\"Returns an int64_list from a bool / enum / int / uint.\"\"\"\n",
    "#     return tf.train.Feature(int64_list=tf.train.Int64List(value=[value]))\n",
    "\n",
    "# def create_example(image, label, example):\n",
    "#     feature = {\n",
    "#         \"image\": image_feature(image),\n",
    "#         \"label\": int64_feature(label),\n",
    "#     }\n",
    "#     return tf.train.Example(features=tf.train.Features(feature=feature))\n",
    "\n",
    "\n",
    "# def parse_tfrecord_fn(example):\n",
    "#     feature_description = {\n",
    "#         \"image\": tf.io.FixedLenFeature([], tf.string),\n",
    "#         \"label\": tf.io.FixedLenFeature([], tf.int64),\n",
    "#     }\n",
    "#     example = tf.io.parse_single_example(example, feature_description)\n",
    "#     example[\"image\"] = tf.io.decode_jpeg(example[\"image\"], channels=3)\n",
    "#     return example"
   ]
  },
  {
   "cell_type": "code",
   "execution_count": 23,
   "id": "2e798278",
   "metadata": {
    "execution": {
     "iopub.execute_input": "2022-01-10T17:07:32.883395Z",
     "iopub.status.busy": "2022-01-10T17:07:32.882551Z",
     "iopub.status.idle": "2022-01-10T17:07:32.885138Z",
     "shell.execute_reply": "2022-01-10T17:07:32.884556Z",
     "shell.execute_reply.started": "2021-10-21T16:10:12.15731Z"
    },
    "papermill": {
     "duration": 0.036745,
     "end_time": "2022-01-10T17:07:32.885262",
     "exception": false,
     "start_time": "2022-01-10T17:07:32.848517",
     "status": "completed"
    },
    "tags": []
   },
   "outputs": [],
   "source": [
    "# def create_tfrecords(img_path_label, dataset_subsplit_name):\n",
    "#     num_tfrecords = get_num_tfrecords(img_path_label)\n",
    "#     for tfrec_num in range(num_tfrecords):\n",
    "#         samples = img_path_label[(tfrec_num * NUM_SAMPLES) : ((tfrec_num + 1) * NUM_SAMPLES)]\n",
    "\n",
    "#         with tf.io.TFRecordWriter(\n",
    "#             tfrecords_dir + \"/{}_file_{}-{}.tfrec\".format(dataset_subsplit_name, tfrec_num, len(samples))\n",
    "#         ) as writer:\n",
    "#             for sample in samples:\n",
    "#                 image_path = sample[0]\n",
    "#                 label = sample[1]\n",
    "#                 image = tf.io.decode_jpeg(tf.io.read_file(image_path))\n",
    "#                 example = create_example(image, label, sample)\n",
    "#                 writer.write(example.SerializeToString())"
   ]
  },
  {
   "cell_type": "code",
   "execution_count": 24,
   "id": "7e362ac2",
   "metadata": {
    "execution": {
     "iopub.execute_input": "2022-01-10T17:07:32.949502Z",
     "iopub.status.busy": "2022-01-10T17:07:32.948967Z",
     "iopub.status.idle": "2022-01-10T17:07:32.952449Z",
     "shell.execute_reply": "2022-01-10T17:07:32.951877Z",
     "shell.execute_reply.started": "2021-10-17T19:00:06.831656Z"
    },
    "papermill": {
     "duration": 0.036877,
     "end_time": "2022-01-10T17:07:32.952567",
     "exception": false,
     "start_time": "2022-01-10T17:07:32.915690",
     "status": "completed"
    },
    "tags": []
   },
   "outputs": [],
   "source": [
    "# create_tfrecords(train_imgpath_label, 'train')"
   ]
  },
  {
   "cell_type": "code",
   "execution_count": 25,
   "id": "ff896196",
   "metadata": {
    "execution": {
     "iopub.execute_input": "2022-01-10T17:07:33.017177Z",
     "iopub.status.busy": "2022-01-10T17:07:33.016616Z",
     "iopub.status.idle": "2022-01-10T17:07:33.020072Z",
     "shell.execute_reply": "2022-01-10T17:07:33.019591Z",
     "shell.execute_reply.started": "2021-10-21T16:10:16.522951Z"
    },
    "papermill": {
     "duration": 0.037605,
     "end_time": "2022-01-10T17:07:33.020193",
     "exception": false,
     "start_time": "2022-01-10T17:07:32.982588",
     "status": "completed"
    },
    "tags": []
   },
   "outputs": [],
   "source": [
    "# create_tfrecords(valid_imgpath_label, 'valid')"
   ]
  },
  {
   "cell_type": "code",
   "execution_count": 26,
   "id": "66dd5208",
   "metadata": {
    "execution": {
     "iopub.execute_input": "2022-01-10T17:07:33.084439Z",
     "iopub.status.busy": "2022-01-10T17:07:33.083568Z",
     "iopub.status.idle": "2022-01-10T17:07:33.085616Z",
     "shell.execute_reply": "2022-01-10T17:07:33.086050Z"
    },
    "papermill": {
     "duration": 0.035985,
     "end_time": "2022-01-10T17:07:33.086191",
     "exception": false,
     "start_time": "2022-01-10T17:07:33.050206",
     "status": "completed"
    },
    "tags": []
   },
   "outputs": [],
   "source": [
    "# create_tfrecords(test_imgpath_label, 'test')"
   ]
  },
  {
   "cell_type": "code",
   "execution_count": 27,
   "id": "5f35e7ae",
   "metadata": {
    "execution": {
     "iopub.execute_input": "2022-01-10T17:07:33.152765Z",
     "iopub.status.busy": "2022-01-10T17:07:33.151155Z",
     "iopub.status.idle": "2022-01-10T17:07:33.153395Z",
     "shell.execute_reply": "2022-01-10T17:07:33.153785Z",
     "shell.execute_reply.started": "2022-01-09T18:23:50.202533Z"
    },
    "papermill": {
     "duration": 0.036714,
     "end_time": "2022-01-10T17:07:33.153919",
     "exception": false,
     "start_time": "2022-01-10T17:07:33.117205",
     "status": "completed"
    },
    "tags": []
   },
   "outputs": [],
   "source": [
    "# import matplotlib.pyplot as plt\n",
    "# raw_dataset = tf.data.TFRecordDataset(\"./valid_01-2525.tfrec\")\n",
    "# parsed_dataset = raw_dataset.map(parse_tfrecord_fn)\n",
    "\n",
    "# for features in parsed_dataset.take(5):\n",
    "#     for key in features.keys():\n",
    "#         if key != \"image\":\n",
    "#             print(f\"{key}: {features[key]}\")\n",
    "\n",
    "#     print(f\"Image shape: {features['image'].shape}\")\n",
    "#     print(features['image'].dtype)\n",
    "#     plt.figure(figsize=(7, 7))\n",
    "#     plt.imshow(features[\"image\"].numpy())\n",
    "#     plt.show()\n"
   ]
  },
  {
   "cell_type": "code",
   "execution_count": null,
   "id": "b53df7fa",
   "metadata": {
    "papermill": {
     "duration": 0.030189,
     "end_time": "2022-01-10T17:07:33.214648",
     "exception": false,
     "start_time": "2022-01-10T17:07:33.184459",
     "status": "completed"
    },
    "tags": []
   },
   "outputs": [],
   "source": []
  }
 ],
 "metadata": {
  "kernelspec": {
   "display_name": "Python 3",
   "language": "python",
   "name": "python3"
  },
  "language_info": {
   "codemirror_mode": {
    "name": "ipython",
    "version": 3
   },
   "file_extension": ".py",
   "mimetype": "text/x-python",
   "name": "python",
   "nbconvert_exporter": "python",
   "pygments_lexer": "ipython3",
   "version": "3.7.10"
  },
  "papermill": {
   "default_parameters": {},
   "duration": 713.839051,
   "end_time": "2022-01-10T17:07:36.118287",
   "environment_variables": {},
   "exception": null,
   "input_path": "__notebook__.ipynb",
   "output_path": "__notebook__.ipynb",
   "parameters": {},
   "start_time": "2022-01-10T16:55:42.279236",
   "version": "2.3.3"
  }
 },
 "nbformat": 4,
 "nbformat_minor": 5
}
